{
  "nbformat": 4,
  "nbformat_minor": 0,
  "metadata": {
    "colab": {
      "provenance": []
    },
    "kernelspec": {
      "name": "python3",
      "display_name": "Python 3"
    },
    "language_info": {
      "name": "python"
    }
  },
  "cells": [
    {
      "cell_type": "markdown",
      "source": [
        "# Data Types and Structures Questions"
      ],
      "metadata": {
        "id": "TwdpLyaxWdrh"
      }
    },
    {
      "cell_type": "markdown",
      "source": [
        "**Q1 - What are data structures, and why are they important ?**\n",
        "\n",
        "Ans - Data structures are ways of organizing and storing data in a computer to make it easier to access, manage, and modify. They provide a systematic way of organizing data for efficient use in various applications.\n",
        "\n",
        "**Importance of Data Structures:**\n",
        "- **Efficiency**: Help in optimizing the use of memory and processing time.\n",
        "- **Faster Access**: Enable quick data retrieval and modification.\n",
        "- **Organized Data**: Make complex data easy to manage and work with.\n",
        "- **Problem Solving**: Enable solving problems efficiently (e.g., sorting, searching, etc.).\n",
        "\n",
        "In short, data structures are essential for creating efficient algorithms and handling large amounts of data effectively.\n",
        "\n",
        "Q2- Explain the difference between mutable and immutable data types with examples.\n",
        "\n",
        "Ans - **Mutable Data Types**: These allow modification after creation. Examples include:\n",
        "- **Lists**: You can change elements, add, or remove them.\n",
        "  ```python\n",
        "  my_list = [1, 2]\n",
        "  my_list[0] = 10  # Changes the list\n",
        "  ```\n",
        "\n",
        "**Immutable Data Types**: These cannot be modified after creation. Examples include:\n",
        "- **Strings**: Cannot change characters directly.\n",
        "  ```python\n",
        "  my_string = \"Hello\"\n",
        "  # my_string[0] = \"H\"  # Error\n",
        "  ```\n",
        "- **Tuples**: Cannot modify elements.\n",
        "  ```python\n",
        "  my_tuple = (1, 2)\n",
        "  # my_tuple[0] = 10  # Error\n",
        "  ```\n",
        "\n",
        "Q3 - What are the main differences between lists and tuples in Python ?\n",
        "\n",
        "Ans - The main differences between **lists** and **tuples** in Python are as follows:\n",
        "\n",
        "1. **Mutability**: Lists are mutable, meaning their elements can be changed, added, or removed. In contrast, tuples are immutable, meaning once created, their elements cannot be modified.\n",
        "\n",
        "2. **Syntax**: Lists are defined using square brackets `[]`, while tuples are defined using parentheses `()`.\n",
        "\n",
        "3. **Performance**: Tuples are generally faster than lists because they are immutable and require less memory overhead, making them more efficient for iteration.\n",
        "\n",
        "4. **Use cases**: Lists are used when you need a collection that might change over time, while tuples are ideal for fixed collections of items where data integrity must be preserved.\n",
        "\n",
        "5. **Methods**: Lists have more built-in methods like `.append()`, `.remove()`, and `.extend()`, while tuples have fewer methods, mainly `.count()` and `.index()`.\n",
        "\n",
        "\n",
        "Q4-  Describe how dictionaries store data.\n",
        "\n",
        "Ans - Dictionaries in Python store data in **key-value pairs**. Each key is unique, and it is associated with a value. The key acts as an identifier, and the value is the data or information associated with that key.\n",
        "\n",
        "Dictionaries are **unordered** collections, meaning the items do not have a specific order, but you can quickly retrieve values using their corresponding keys.\n",
        "\n",
        "### Example:\n",
        "```python\n",
        "my_dict = {\"name\": \"Alice\", \"age\": 25, \"city\": \"New York\"}\n",
        "```\n",
        "Here, `\"name\"`, `\"age\"`, and `\"city\"` are the **keys**, and `\"Alice\"`, `25`, and `\"New York\"` are the **values** associated with those keys.\n",
        "\n",
        "Dictionaries use a hash table to store keys, which allows for **efficient lookup**, meaning accessing the value by key is very fast (on average, O(1) time complexity).\n",
        "\n",
        "Q5 - Why might you use a set instead of a list in Python ?\n",
        "\n",
        "Ans - You might use a **set** instead of a **list** in Python for the following reasons:\n",
        "\n",
        "1. **Uniqueness**: Sets automatically eliminate duplicate elements, ensuring that all items are unique. If you need to store only unique items and avoid duplicates, a set is a better choice than a list.\n",
        "\n",
        "2. **Efficiency**: Sets provide faster membership testing (checking if an item exists) and element insertion, typically with O(1) time complexity, while lists may require O(n) time to search for an element.\n",
        "\n",
        "3. **Mathematical Operations**: Sets support mathematical operations like union, intersection, and difference directly. If you need to perform these types of operations on collections of data, sets are more efficient than lists.\n",
        "\n",
        "4. **Immutability of Items**: Unlike lists, elements of a set are unordered and cannot be indexed or accessed by position. If order doesn't matter and you don't need to access elements by index, a set is a good choice.\n",
        "\n",
        "In short, you should use a set when you need unique elements, faster lookups, and set operations, while a list is better when order and duplicates are important.\n",
        "\n",
        "Q6 - What is a string in Python, and how is it different from a list ?\n",
        "\n",
        "Ans - In Python, a **string** is a sequence of characters enclosed in quotes (either single or double) used to represent text. Strings are **immutable**, meaning their contents cannot be modified after creation. For example, you cannot change a specific character in a string once it's defined.\n",
        "\n",
        "On the other hand, a **list** is an ordered collection of elements that can store different types of data, such as integers, strings, or even other lists. Lists are **mutable**, which means you can modify, add, or remove elements from a list after it’s created.\n",
        "\n",
        "The key difference between a string and a list is that strings are only used for storing text and cannot be altered, while lists can store multiple data types and are flexible for modifications. Additionally, strings have methods specific to text manipulation, while lists provide methods for handling various types of data within them.\n",
        "\n",
        "Q7 -  How do tuples ensure data integrity in Python ?\n",
        "\n",
        "Ans - Tuples ensure data integrity in Python by being **immutable**, meaning once they are created, their contents cannot be changed. This immutability prevents accidental modifications, ensuring that the data remains consistent and unaltered throughout the program. Because of this, tuples are often used to store data that should not be modified, such as constant values or fixed collections, making them a reliable choice when data integrity is essential.\n",
        "\n",
        "Since you cannot add, remove, or change elements in a tuple, it helps maintain the integrity of the data, preventing bugs or unintended changes that could occur in mutable data structures like lists. This feature makes tuples particularly useful when you want to guarantee that the data remains intact and unmodified.\n",
        "\n",
        "Q8 -  What is a hash table, and how does it relate to dictionaries in Python ?\n",
        "\n",
        "Ans - A **hash table** is a data structure that stores data in key-value pairs, where each key is hashed to compute an index, allowing for efficient data retrieval. In Python, **dictionaries** are implemented using hash tables, meaning they use a hash function to map each key to a unique index, which allows for fast lookups, insertions, and deletions. This ensures that accessing a value by its key in a dictionary is generally very fast (on average, O(1) time complexity).\n",
        "\n",
        "\n",
        "Q9 -  Can lists contain different data types in Python ?\n",
        "\n",
        "Ans - Yes, lists in Python can contain different data types, meaning you can store a mix of integers, strings, floats, booleans, and even other lists or objects within a single list. For example, a list can be `[1, \"hello\", 3.14, True, [1, 2]]`.\n",
        "\n",
        "\n",
        "Q10 -  Explain why strings are immutable in Python ?\n",
        "\n",
        "Ans - Strings are immutable in Python to ensure that they are hashable and can be used as keys in dictionaries or elements in sets, as their content cannot be changed once created. This immutability also improves performance by allowing strings to be stored in memory more efficiently, as they don't require space for modification or copying.\n",
        "\n",
        "Q11 -  What advantages do dictionaries offer over lists for certain tasks ?\n",
        "\n",
        "Ans - Dictionaries offer several advantages over lists for certain tasks, particularly when it comes to **efficient data retrieval**. Since dictionaries use keys to access values, you can look up, insert, or modify data in **constant time** (O(1) on average), making them much faster than lists, which require linear time (O(n)) for searches. Additionally, dictionaries allow for storing data in **key-value pairs**, making them ideal for tasks where you need to associate specific values with unique identifiers, such as when dealing with mappings or lookups. This structure also eliminates the need for searching through an entire collection, unlike lists, where you would need to iterate through elements to find a match.\n",
        "\n",
        "\n",
        "Q12 -  Describe a scenario where using a tuple would be preferable over a list.\n",
        "\n",
        "Ans - A tuple would be preferable over a list in a scenario where you need to store a collection of **data that should not be modified**. For example, if you are storing **coordinates** (latitude, longitude) for a location, the values should remain constant throughout the program. Using a tuple ensures that the data is **immutable** and cannot be accidentally changed, maintaining data integrity. Since tuples are also more memory-efficient and faster for iteration than lists, they are a good choice for fixed collections like this where data consistency is important.\n",
        "\n",
        "\n",
        "Q13 - How do sets handle duplicate values in Python ?\n",
        "\n",
        "Ans - Sets in Python automatically **remove duplicate values**, ensuring that each element in a set is unique. If you attempt to add a duplicate value to a set, it will simply be ignored, and the set will only contain one instance of that value.\n",
        "\n",
        "Q14 -  How does the “in” keyword work differently for lists and dictionaries ?\n",
        "\n",
        "Ans - In Python, the **\"in\"** keyword works differently for lists and dictionaries: for lists, it checks if a specific **element** is present in the list, whereas for dictionaries, it checks if a specific **key** exists in the dictionary. For example, in a list, `\"apple\" in my_list` checks if \"apple\" is an item in the list, while in a dictionary, `\"apple\" in my_dict` checks if \"apple\" is one of the keys.\n",
        "\n",
        "\n",
        "Q15 -  Can you modify the elements of a tuple? Explain why or why not ?\n",
        "\n",
        "Ans - No, you cannot modify the elements of a tuple because tuples are **immutable** in Python, meaning once they are created, their contents cannot be changed. This immutability ensures data integrity and allows tuples to be used in situations where the data should remain constant throughout the program.\n",
        "\n",
        "\n",
        "Q16 -  What is a nested dictionary, and give an example of its use case ?\n",
        "\n",
        "Ans - A **nested dictionary** is a dictionary where the values themselves are other dictionaries, allowing you to store more complex, hierarchical data. For example, a use case could be storing information about multiple employees, where each employee has their own set of details like name, age, and department stored in a nested dictionary:\n",
        "\n",
        "\n",
        "    employees = {\n",
        "    \"emp1\": {\"name\": \"Alice\", \"age\": 30, \"department\": \"HR\"},\n",
        "    \"emp2\": {\"name\": \"Bob\", \"age\": 25, \"department\": \"Engineering\"}\n",
        "    }\n",
        "\n",
        "\n",
        "In this case, you can access specific details like Bob's age using `employees[\"emp2\"][\"age\"]`.\n",
        "\n",
        "Q17 -  Describe the time complexity of accessing elements in a dictionary.\n",
        "\n",
        "Ans- The time complexity of accessing elements in a dictionary is **O(1)** on average, meaning that retrieving a value using a key is very fast and occurs in constant time. This is because dictionaries in Python are implemented using hash tables, which allow for direct access to the value associated with a given key by calculating the hash and using it to find the value efficiently. However, in rare cases of hash collisions, the time complexity can degrade to **O(n)**, but this is uncommon in practice.\n",
        "\n",
        "\n",
        "Q18 - In what situations are lists preferred over dictionaries.\n",
        "\n",
        "Ans - Lists are preferred over dictionaries in situations where **order matters** or when you need to store a **sequence of items** that may not have a specific key-value relationship. Lists are ideal for tasks like iterating over a collection of elements, maintaining an ordered collection, or when you need to access elements by their **index position**. They are also more appropriate when you expect the data to be **modified** frequently, such as appending or removing elements, as lists are mutable and provide many useful methods for these operations.\n",
        "\n",
        "\n",
        "Q19 - Why are dictionaries considered unordered, and how does that affect data retrieval ?\n",
        "\n",
        "Ans - Dictionaries are considered **unordered** because the key-value pairs are stored based on the hash of the keys, rather than in any specific sequence. This means that the order in which the pairs are inserted does not necessarily correspond to the order in which they are retrieved. However, this does not affect data retrieval since values can still be accessed quickly using their associated keys, with **O(1)** time complexity on average. The lack of order only becomes relevant if you need to maintain or process elements in a specific order, which is where lists or other ordered data structures would be more appropriate.\n",
        "\n",
        "Q20 -  Explain the difference between a list and a dictionary in terms of data retrieval.\n",
        "\n",
        "Ans - The primary difference between a **list** and a **dictionary** in terms of data retrieval is how you access the data. In a list, elements are accessed by their **index position**, which is an integer representing the element's position in the ordered sequence. This means that you need to know the index to retrieve an item, and the time complexity for accessing an element is **O(1)**.\n",
        "\n",
        "In contrast, in a dictionary, data is accessed using a **key**. Each key maps to a corresponding value, and you retrieve the value by specifying the key. The time complexity for accessing data in a dictionary is also **O(1)** on average, thanks to the use of hash tables. Unlike lists, dictionaries do not rely on position but on unique keys for efficient data retrieval."
      ],
      "metadata": {
        "id": "5iIiFQgyZgQS"
      }
    },
    {
      "cell_type": "markdown",
      "source": [
        "#Data Types and Structures Practical Questions"
      ],
      "metadata": {
        "id": "oD8i0hfcecFQ"
      }
    },
    {
      "cell_type": "code",
      "execution_count": 3,
      "metadata": {
        "colab": {
          "base_uri": "https://localhost:8080/"
        },
        "id": "v8EGmGaHWTbW",
        "outputId": "7ae83015-51c7-495c-baca-603dcd0561b4"
      },
      "outputs": [
        {
          "output_type": "stream",
          "name": "stdout",
          "text": [
            "manjunath\n"
          ]
        }
      ],
      "source": [
        "#Q1-Write a code to create a string with your name and print it.\n",
        "name = 'manjunath'\n",
        "print(name)"
      ]
    },
    {
      "cell_type": "code",
      "source": [
        "#Q2- Write a code to find the length of the string \"Hello World\".\n",
        "string = \"Hello World\"\n",
        "print(len(string))"
      ],
      "metadata": {
        "colab": {
          "base_uri": "https://localhost:8080/"
        },
        "id": "Fff8H7q3fADA",
        "outputId": "40bfb18d-8667-4ae7-eb80-92a3a932a49c"
      },
      "execution_count": 4,
      "outputs": [
        {
          "output_type": "stream",
          "name": "stdout",
          "text": [
            "11\n"
          ]
        }
      ]
    },
    {
      "cell_type": "code",
      "source": [
        "#Q3-  Write a code to slice the first 3 characters from the string \"Python Programming\"\n",
        "string = \"Python Programming\"\n",
        "print(string[:3])"
      ],
      "metadata": {
        "colab": {
          "base_uri": "https://localhost:8080/"
        },
        "id": "gDJGGbNZfUIh",
        "outputId": "36d926a1-9e18-462b-9118-ee25de5bf3f7"
      },
      "execution_count": 5,
      "outputs": [
        {
          "output_type": "stream",
          "name": "stdout",
          "text": [
            "Pyt\n"
          ]
        }
      ]
    },
    {
      "cell_type": "code",
      "source": [
        "#Q4-  Write a code to convert the string \"hello\" to uppercase.\n",
        "string = \"hello\"\n",
        "uppercase_string = string.upper()\n",
        "print(uppercase_string)\n"
      ],
      "metadata": {
        "colab": {
          "base_uri": "https://localhost:8080/"
        },
        "id": "IbeAKVdZfgBe",
        "outputId": "a87096be-5458-405b-8081-ac5bb569145f"
      },
      "execution_count": 6,
      "outputs": [
        {
          "output_type": "stream",
          "name": "stdout",
          "text": [
            "HELLO\n"
          ]
        }
      ]
    },
    {
      "cell_type": "code",
      "source": [
        "#Q5- Write a code to replace the word \"apple\" with \"orange\" in the string \"I like apple\"\n",
        "string = \"I like apple\"\n",
        "new_string = string.replace(\"apple\", \"orange\")\n",
        "print(new_string)"
      ],
      "metadata": {
        "colab": {
          "base_uri": "https://localhost:8080/"
        },
        "id": "yHUAS08dfvLE",
        "outputId": "18018a06-820b-4296-bb88-060ca31b81f3"
      },
      "execution_count": 7,
      "outputs": [
        {
          "output_type": "stream",
          "name": "stdout",
          "text": [
            "I like orange\n"
          ]
        }
      ]
    },
    {
      "cell_type": "code",
      "source": [
        "#Q6- Write a code to create a list with numbers 1 to 5 and print it.\n",
        "list = [1,2,3,4,5]\n",
        "print(list)"
      ],
      "metadata": {
        "colab": {
          "base_uri": "https://localhost:8080/"
        },
        "id": "Vhx_BU78f3zn",
        "outputId": "d064a782-ad50-4761-c608-88da6d763e36"
      },
      "execution_count": 8,
      "outputs": [
        {
          "output_type": "stream",
          "name": "stdout",
          "text": [
            "[1, 2, 3, 4, 5]\n"
          ]
        }
      ]
    },
    {
      "cell_type": "code",
      "source": [
        "#Q7- Write a code to append the number 10 to the list [1, 2, 3, 4].\n",
        "list = [1,2,3,4]\n",
        "list.append(10)\n",
        "print(list)"
      ],
      "metadata": {
        "colab": {
          "base_uri": "https://localhost:8080/"
        },
        "id": "legv6SUfgHxV",
        "outputId": "6cb43e1e-117d-4a5b-84d5-24b504a99c7c"
      },
      "execution_count": 9,
      "outputs": [
        {
          "output_type": "stream",
          "name": "stdout",
          "text": [
            "[1, 2, 3, 4, 10]\n"
          ]
        }
      ]
    },
    {
      "cell_type": "code",
      "source": [
        "#Q8 - Write a code to remove the number 3 from the list [1, 2, 3, 4, 5].\n",
        "list = [1,2,3,4]\n",
        "list.remove(3)\n",
        "print(list)"
      ],
      "metadata": {
        "colab": {
          "base_uri": "https://localhost:8080/"
        },
        "id": "fVhpWDk4gRvm",
        "outputId": "203a63f5-80e6-4c58-ea89-682009176a9b"
      },
      "execution_count": 10,
      "outputs": [
        {
          "output_type": "stream",
          "name": "stdout",
          "text": [
            "[1, 2, 4]\n"
          ]
        }
      ]
    },
    {
      "cell_type": "code",
      "source": [
        "#Q9 -  Write a code to access the second element in the list ['a', 'b', 'c', 'd']\n",
        "my_list = ['a', 'b', 'c', 'd']\n",
        "second_element = my_list[1]\n",
        "print(second_element)\n"
      ],
      "metadata": {
        "colab": {
          "base_uri": "https://localhost:8080/"
        },
        "id": "ZCid-x-ogmoI",
        "outputId": "3f4bcacf-0adc-4ab6-8453-4109e78aa820"
      },
      "execution_count": 13,
      "outputs": [
        {
          "output_type": "stream",
          "name": "stdout",
          "text": [
            "b\n"
          ]
        }
      ]
    },
    {
      "cell_type": "code",
      "source": [
        "#Q10 -  Write a code to reverse the list [10, 20, 30, 40, 50].\n",
        "my_list = [10, 20, 30, 40, 50]\n",
        "reversed_list = my_list[::-1]\n",
        "print(reversed_list)\n"
      ],
      "metadata": {
        "colab": {
          "base_uri": "https://localhost:8080/"
        },
        "id": "2J3pN-Jzg79r",
        "outputId": "bfee1163-2dd6-4afd-8440-750bd68c1d6d"
      },
      "execution_count": 14,
      "outputs": [
        {
          "output_type": "stream",
          "name": "stdout",
          "text": [
            "[50, 40, 30, 20, 10]\n"
          ]
        }
      ]
    },
    {
      "cell_type": "code",
      "source": [
        "#Q11 - . Write a code to create a tuple with the elements 100, 200, 300 and print it.\n",
        "my_tuple = (100, 200, 300)\n",
        "print(my_tuple)"
      ],
      "metadata": {
        "colab": {
          "base_uri": "https://localhost:8080/"
        },
        "id": "zvbSMMRMhW-8",
        "outputId": "66e79991-89f5-4bd5-c016-4a2f6e3fd31d"
      },
      "execution_count": 15,
      "outputs": [
        {
          "output_type": "stream",
          "name": "stdout",
          "text": [
            "(100, 200, 300)\n"
          ]
        }
      ]
    },
    {
      "cell_type": "code",
      "source": [
        "#Q12 - Write a code to access the second-to-last element of the tuple ('red', 'green', 'blue', 'yellow')\n",
        "my_tuple = ('red', 'green', 'blue', 'yellow')\n",
        "second_to_last_element = my_tuple[-2]\n",
        "print(second_to_last_element)"
      ],
      "metadata": {
        "colab": {
          "base_uri": "https://localhost:8080/"
        },
        "id": "nWVQ5EUhhiiu",
        "outputId": "5b280d60-e071-4b27-ec78-e7e2557ecfb1"
      },
      "execution_count": 18,
      "outputs": [
        {
          "output_type": "stream",
          "name": "stdout",
          "text": [
            "blue\n"
          ]
        }
      ]
    },
    {
      "cell_type": "code",
      "source": [
        "#Q13 - Write a code to find the minimum number in the tuple (10, 20, 5, 15).\n",
        "my_tuple = (10, 20, 5, 15)\n",
        "minimum_number = min(my_tuple)\n",
        "print(minimum_number)"
      ],
      "metadata": {
        "colab": {
          "base_uri": "https://localhost:8080/"
        },
        "id": "2bTic1qehuA_",
        "outputId": "46856bb1-168f-4693-cf2a-a829324d9eb8"
      },
      "execution_count": 19,
      "outputs": [
        {
          "output_type": "stream",
          "name": "stdout",
          "text": [
            "5\n"
          ]
        }
      ]
    },
    {
      "cell_type": "code",
      "source": [
        "#Q14 -  Write a code to find the index of the element \"cat\" in the tuple ('dog', 'cat', 'rabbit').\n",
        "my_tuple = ('dog', 'cat', 'rabbit')\n",
        "index_of_cat = my_tuple.index('cat')\n",
        "print(index_of_cat)"
      ],
      "metadata": {
        "colab": {
          "base_uri": "https://localhost:8080/"
        },
        "id": "3mn8KNjRiDbz",
        "outputId": "4c6dcc3f-b339-47d3-9ce0-d72307d2e180"
      },
      "execution_count": 21,
      "outputs": [
        {
          "output_type": "stream",
          "name": "stdout",
          "text": [
            "1\n"
          ]
        }
      ]
    },
    {
      "cell_type": "code",
      "source": [
        "#Q15 -  Write a code to create a tuple containing three different fruits and check if \"kiwi\" is in it.\n",
        "fruits = ('apple', 'banana', 'cherry')\n",
        "if 'kiwi' in fruits:\n",
        "    print(\"Kiwi is in the tuple.\")\n",
        "else:\n",
        "    print(\"Kiwi is not in the tuple.\")\n"
      ],
      "metadata": {
        "colab": {
          "base_uri": "https://localhost:8080/"
        },
        "id": "1v6lAyLfiLGk",
        "outputId": "630e24cb-af33-442a-d595-9986f9a7e01d"
      },
      "execution_count": 23,
      "outputs": [
        {
          "output_type": "stream",
          "name": "stdout",
          "text": [
            "Kiwi is not in the tuple.\n"
          ]
        }
      ]
    },
    {
      "cell_type": "code",
      "source": [
        "#Q16 -  Write a code to create a set with the elements 'a', 'b', 'c' and print it.\n",
        "my_set = {'a', 'b', 'c'}\n",
        "print(my_set)\n"
      ],
      "metadata": {
        "colab": {
          "base_uri": "https://localhost:8080/"
        },
        "id": "GVtjK7X2iTfh",
        "outputId": "f4c2054a-8963-422b-f6d6-dae8e87c8208"
      },
      "execution_count": 25,
      "outputs": [
        {
          "output_type": "stream",
          "name": "stdout",
          "text": [
            "{'b', 'c', 'a'}\n"
          ]
        }
      ]
    },
    {
      "cell_type": "code",
      "source": [
        "#Q17 - Write a code to clear all elements from the set {1, 2, 3, 4, 5}.\n",
        "my_set = {1, 2, 3, 4, 5}\n",
        "my_set.clear()\n",
        "print(my_set)\n"
      ],
      "metadata": {
        "colab": {
          "base_uri": "https://localhost:8080/"
        },
        "id": "jsTcnIqPi9wt",
        "outputId": "ee9f639b-9563-4b8f-d05a-07fc7604a753"
      },
      "execution_count": 26,
      "outputs": [
        {
          "output_type": "stream",
          "name": "stdout",
          "text": [
            "set()\n"
          ]
        }
      ]
    },
    {
      "cell_type": "code",
      "source": [
        "#Q18 - Write a code to remove the element 4 from the set {1, 2, 3, 4}.\n",
        "my_set = {1, 2, 3, 4}\n",
        "my_set.remove(4)\n",
        "print(my_set)"
      ],
      "metadata": {
        "colab": {
          "base_uri": "https://localhost:8080/"
        },
        "id": "-FnFZicpjZNZ",
        "outputId": "206f299b-8acf-4e3c-8981-8d8ab00e1bf0"
      },
      "execution_count": 27,
      "outputs": [
        {
          "output_type": "stream",
          "name": "stdout",
          "text": [
            "{1, 2, 3}\n"
          ]
        }
      ]
    },
    {
      "cell_type": "code",
      "source": [
        "#Q19 -  Write a code to find the union of two sets {1, 2, 3} and {3, 4, 5}.\n",
        "set1 = {1, 2, 3}\n",
        "set2 = {3, 4, 5}\n",
        "union_set = set1.union(set2)\n",
        "print(union_set)"
      ],
      "metadata": {
        "colab": {
          "base_uri": "https://localhost:8080/"
        },
        "id": "Y9ZhkZhljkxo",
        "outputId": "e00909a1-8242-4ce1-87fd-277f78a41253"
      },
      "execution_count": 28,
      "outputs": [
        {
          "output_type": "stream",
          "name": "stdout",
          "text": [
            "{1, 2, 3, 4, 5}\n"
          ]
        }
      ]
    },
    {
      "cell_type": "code",
      "source": [
        "#Q20 - Write a code to find the intersection of two sets {1, 2, 3} and {2, 3, 4}.\n",
        "set1 = {1, 2, 3}\n",
        "set2 = {2, 3, 4}\n",
        "intersection_set = set1.intersection(set2)\n",
        "print(intersection_set)\n"
      ],
      "metadata": {
        "colab": {
          "base_uri": "https://localhost:8080/"
        },
        "id": "sf5qfN3PjvFJ",
        "outputId": "1ae3f9ca-3e7a-4f83-e820-c02f7f30a247"
      },
      "execution_count": 29,
      "outputs": [
        {
          "output_type": "stream",
          "name": "stdout",
          "text": [
            "{2, 3}\n"
          ]
        }
      ]
    },
    {
      "cell_type": "code",
      "source": [
        "#Q21 -  Write a code to create a dictionary with the keys \"name\", \"age\", and \"city\", and print it\n",
        "my_dict = {\n",
        "    \"name\": \"Manjunath\",\n",
        "    \"age\": 31,\n",
        "    \"city\": \"Mumbai\"\n",
        "}\n",
        "print(my_dict)"
      ],
      "metadata": {
        "colab": {
          "base_uri": "https://localhost:8080/"
        },
        "id": "vLvnGnj8j2rr",
        "outputId": "c0debdb5-30cb-451d-cd7d-1dda85d0bca0"
      },
      "execution_count": 31,
      "outputs": [
        {
          "output_type": "stream",
          "name": "stdout",
          "text": [
            "{'name': 'Manjunath', 'age': 31, 'city': 'Mumbai'}\n"
          ]
        }
      ]
    },
    {
      "cell_type": "code",
      "source": [
        "#Q22 - Write a code to add a new key-value pair \"country\": \"USA\" to the dictionary {'name': 'John', 'age': 25}.\n",
        "my_dict = {'name': 'John', 'age': 25}\n",
        "my_dict['country'] = 'USA'\n",
        "print(my_dict)"
      ],
      "metadata": {
        "colab": {
          "base_uri": "https://localhost:8080/"
        },
        "id": "s-ds08XOkDWM",
        "outputId": "5955f9ae-a4f8-4522-ea9c-a5cb56ea7aa4"
      },
      "execution_count": 35,
      "outputs": [
        {
          "output_type": "stream",
          "name": "stdout",
          "text": [
            "{'name': 'John', 'age': 25, 'country': 'USA'}\n"
          ]
        }
      ]
    },
    {
      "cell_type": "code",
      "source": [
        "#Q23 - Write a code to access the value associated with the key \"name\" in the dictionary {'name': 'Alice', 'age': 30}.\n",
        "my_dict = {'name': 'Alice', 'age': 30}\n",
        "name_value = my_dict['name']\n",
        "print(name_value)\n"
      ],
      "metadata": {
        "colab": {
          "base_uri": "https://localhost:8080/"
        },
        "id": "qFf-UXgZkYAO",
        "outputId": "a95406a8-39cc-4aa7-d7db-d2e7fcf3d400"
      },
      "execution_count": 36,
      "outputs": [
        {
          "output_type": "stream",
          "name": "stdout",
          "text": [
            "Alice\n"
          ]
        }
      ]
    },
    {
      "cell_type": "code",
      "source": [
        "#Q24 -  Write a code to remove the key \"age\" from the dictionary {'name': 'Bob', 'age': 22, 'city': 'New York'}.\n",
        "my_dict = {'name': 'Bob', 'age': 22, 'city': 'New York'}\n",
        "del my_dict['age']\n",
        "print(my_dict)\n"
      ],
      "metadata": {
        "colab": {
          "base_uri": "https://localhost:8080/"
        },
        "id": "57qAJrvlkv2v",
        "outputId": "49dc1be1-1099-4000-f017-b47bcd08f36a"
      },
      "execution_count": 37,
      "outputs": [
        {
          "output_type": "stream",
          "name": "stdout",
          "text": [
            "{'name': 'Bob', 'city': 'New York'}\n"
          ]
        }
      ]
    },
    {
      "cell_type": "code",
      "source": [
        "#Q25 - Write a code to check if the key \"city\" exists in the dictionary {'name': 'Alice', 'city': 'Paris'}.\n",
        "my_dict = {'name': 'Alice', 'city': 'Paris'}\n",
        "if 'city' in my_dict:\n",
        "    print(\"The key 'city' exists in the dictionary.\")\n",
        "else:\n",
        "    print(\"The key 'city' does not exist in the dictionary.\")"
      ],
      "metadata": {
        "colab": {
          "base_uri": "https://localhost:8080/"
        },
        "id": "FTqHwMIWk2zw",
        "outputId": "6c1764aa-0a7e-4e22-91fe-40d3ed2fa3e9"
      },
      "execution_count": 39,
      "outputs": [
        {
          "output_type": "stream",
          "name": "stdout",
          "text": [
            "The key 'city' exists in the dictionary.\n"
          ]
        }
      ]
    },
    {
      "cell_type": "code",
      "source": [
        "#Q26 - Write a code to create a list, a tuple, and a dictionary, and print them all.\n",
        "my_list = [1, 2, 3]\n",
        "my_tuple = (4, 5, 6)\n",
        "my_dict = {'name': 'John', 'age': 25}\n",
        "\n",
        "print(\"List:\", my_list)\n",
        "print(\"Tuple:\", my_tuple)\n",
        "print(\"Dictionary:\", my_dict)"
      ],
      "metadata": {
        "colab": {
          "base_uri": "https://localhost:8080/"
        },
        "id": "X86n8SCElG-i",
        "outputId": "09d3e0cf-e87b-4736-c5b2-5c4285432c10"
      },
      "execution_count": 40,
      "outputs": [
        {
          "output_type": "stream",
          "name": "stdout",
          "text": [
            "List: [1, 2, 3]\n",
            "Tuple: (4, 5, 6)\n",
            "Dictionary: {'name': 'John', 'age': 25}\n"
          ]
        }
      ]
    },
    {
      "cell_type": "code",
      "source": [
        "#Q27 -  Write a code to create a list of 5 random numbers between 1 and 100, sort it in ascending order, and print the result.(replaced)\n",
        "import random\n",
        "\n",
        "random_numbers = [random.randint(1, 100) for _ in range(5)]\n",
        "random_numbers.sort()\n",
        "print(\"Sorted List:\", random_numbers)\n"
      ],
      "metadata": {
        "colab": {
          "base_uri": "https://localhost:8080/"
        },
        "id": "z3_qWKZtlY8_",
        "outputId": "ffa69253-65b6-4660-f7eb-d0356887e259"
      },
      "execution_count": 41,
      "outputs": [
        {
          "output_type": "stream",
          "name": "stdout",
          "text": [
            "Sorted List: [11, 40, 50, 76, 95]\n"
          ]
        }
      ]
    },
    {
      "cell_type": "code",
      "source": [
        "#Q28 - Write a code to create a list with strings and print the element at the third index.\n",
        "my_list = ['apple', 'banana', 'cherry', 'date', 'elderberry']\n",
        "third_element = my_list[2]\n",
        "print(third_element)"
      ],
      "metadata": {
        "colab": {
          "base_uri": "https://localhost:8080/"
        },
        "id": "q8cESpsllmR8",
        "outputId": "d6d1c4fb-db7a-456d-c6e3-439b6dd7d51a"
      },
      "execution_count": 42,
      "outputs": [
        {
          "output_type": "stream",
          "name": "stdout",
          "text": [
            "cherry\n"
          ]
        }
      ]
    },
    {
      "cell_type": "code",
      "source": [
        "#Q29 - Write a code to combine two dictionaries into one and print the result.\n",
        "dict1 = {'a': 1, 'b': 2}\n",
        "dict2 = {'c': 3, 'd': 4}\n",
        "combined_dict = {**dict1, **dict2}\n",
        "print(combined_dict)"
      ],
      "metadata": {
        "colab": {
          "base_uri": "https://localhost:8080/"
        },
        "id": "pO_l0Pfwl7nn",
        "outputId": "889fa25e-33d8-456c-ca34-597f905cf9e8"
      },
      "execution_count": 43,
      "outputs": [
        {
          "output_type": "stream",
          "name": "stdout",
          "text": [
            "{'a': 1, 'b': 2, 'c': 3, 'd': 4}\n"
          ]
        }
      ]
    },
    {
      "cell_type": "code",
      "source": [
        "#Q30 - Write a code to convert a list of strings into a set.\n",
        "string_list = ['apple', 'banana', 'cherry', 'apple', 'banana']\n",
        "string_set = set(string_list)\n",
        "print(string_set)"
      ],
      "metadata": {
        "colab": {
          "base_uri": "https://localhost:8080/"
        },
        "id": "l01MMPnomGkH",
        "outputId": "1653175c-c7cc-48ab-9ffb-ca17d12dab76"
      },
      "execution_count": 44,
      "outputs": [
        {
          "output_type": "stream",
          "name": "stdout",
          "text": [
            "{'apple', 'cherry', 'banana'}\n"
          ]
        }
      ]
    },
    {
      "cell_type": "code",
      "source": [],
      "metadata": {
        "id": "dVhpcD0xmOYo"
      },
      "execution_count": null,
      "outputs": []
    }
  ]
}
